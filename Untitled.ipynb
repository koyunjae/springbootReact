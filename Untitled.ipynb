{
 "cells": [
  {
   "cell_type": "code",
   "execution_count": 37,
   "id": "937e0f4d-1a7c-4b71-814e-44ace6fb4c7a",
   "metadata": {},
   "outputs": [
    {
     "data": {
      "text/plain": [
       "'C:\\\\Users\\\\Administrator'"
      ]
     },
     "execution_count": 37,
     "metadata": {},
     "output_type": "execute_result"
    }
   ],
   "source": [
    "pwd"
   ]
  },
  {
   "cell_type": "markdown",
   "id": "4e9c58c4-6cf7-4649-8ebd-7e4e6ce4a54b",
   "metadata": {},
   "source": [
    "<a href=\"https://pynative.com/wp-content/uploads/2021/02/dictionaries-in-python.jpg\">dictinfsdasfdsfads</a>"
   ]
  },
  {
   "cell_type": "markdown",
   "id": "4e66db25-b057-4ae3-b08c-0955e47a2ddf",
   "metadata": {},
   "source": [
    "<img src=\"images/33.jpg\"/>"
   ]
  },
  {
   "cell_type": "markdown",
   "id": "c2ae5c70-f6fd-49c6-87e5-a4cd2909c128",
   "metadata": {},
   "source": [
    "<h1>dictionary</h1>\n",
    "<h4> 키와 벨류의 쌍으로 이루어진 데이터 = 자바 스크립트의 객체와 동일</h4>"
   ]
  },
  {
   "cell_type": "code",
   "execution_count": 9,
   "id": "4968db30-6de7-4c0e-b173-4c5c4e029b6b",
   "metadata": {},
   "outputs": [],
   "source": [
    "a={'a':6}  #dictionary"
   ]
  },
  {
   "cell_type": "code",
   "execution_count": null,
   "id": "b5cae481-40ef-42c5-9efe-5cfed2f1b4b0",
   "metadata": {},
   "outputs": [],
   "source": [
    "b=[1,2,3,4] #list"
   ]
  },
  {
   "cell_type": "code",
   "execution_count": 15,
   "id": "9e7fc783-099b-4c24-8db7-00f7cf27382c",
   "metadata": {},
   "outputs": [],
   "source": [
    "a['6']=13"
   ]
  },
  {
   "cell_type": "code",
   "execution_count": 17,
   "id": "97b82fdd-01e7-4894-a6f5-6879e66301d6",
   "metadata": {},
   "outputs": [
    {
     "data": {
      "text/plain": [
       "{'a': 6, 'b': 13}"
      ]
     },
     "execution_count": 17,
     "metadata": {},
     "output_type": "execute_result"
    }
   ],
   "source": [
    "{'a':6,'b':13}"
   ]
  }
 ],
 "metadata": {
  "kernelspec": {
   "display_name": "Python [conda env:base] *",
   "language": "python",
   "name": "conda-base-py"
  },
  "language_info": {
   "codemirror_mode": {
    "name": "ipython",
    "version": 3
   },
   "file_extension": ".py",
   "mimetype": "text/x-python",
   "name": "python",
   "nbconvert_exporter": "python",
   "pygments_lexer": "ipython3",
   "version": "3.12.7"
  }
 },
 "nbformat": 4,
 "nbformat_minor": 5
}
